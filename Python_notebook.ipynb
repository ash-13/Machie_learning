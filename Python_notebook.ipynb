{
  "nbformat": 4,
  "nbformat_minor": 0,
  "metadata": {
    "colab": {
      "name": "Python_notebook.ipynb",
      "provenance": [],
      "collapsed_sections": [],
      "authorship_tag": "ABX9TyP9t31qqLrSk4FI7NNtVpUe"
    },
    "kernelspec": {
      "name": "python3",
      "display_name": "Python 3"
    }
  },
  "cells": [
    {
      "cell_type": "markdown",
      "metadata": {
        "id": "I_hc3LQx3LPp",
        "colab_type": "text"
      },
      "source": [
        "# Python\n",
        "We are using python 3.6 here"
      ]
    },
    {
      "cell_type": "markdown",
      "metadata": {
        "id": "fXkh-9se4DKq",
        "colab_type": "text"
      },
      "source": [
        "Print function\n",
        "`print()` is use to print whatever is given in between double quotes or single quotes."
      ]
    },
    {
      "cell_type": "code",
      "metadata": {
        "id": "65jRIjaA4TBp",
        "colab_type": "code",
        "colab": {
          "base_uri": "https://localhost:8080/",
          "height": 34
        },
        "outputId": "dfbf5b3b-2975-4a95-f315-b82099a425e6"
      },
      "source": [
        "print(\"Hello fells\")"
      ],
      "execution_count": 2,
      "outputs": [
        {
          "output_type": "stream",
          "text": [
            "Hello fells\n"
          ],
          "name": "stdout"
        }
      ]
    },
    {
      "cell_type": "markdown",
      "metadata": {
        "id": "LDWUcc8tHjnN",
        "colab_type": "text"
      },
      "source": [
        "# Variables\n",
        "_To create variable you just have to assign variable a value it creates that's data type of vaiable_\n"
      ]
    },
    {
      "cell_type": "code",
      "metadata": {
        "id": "vaOSaXGK3HY8",
        "colab_type": "code",
        "colab": {}
      },
      "source": [
        "a = 10    #a is varible name with 10 & it is of int type \n",
        "b = 10.5    # b is varible name with 10.5 & it is of float type\n",
        "c = 'Hello there'   # c is variable name & it is type of string"
      ],
      "execution_count": 0,
      "outputs": []
    },
    {
      "cell_type": "code",
      "metadata": {
        "id": "1fSWjVD55CLp",
        "colab_type": "code",
        "colab": {
          "base_uri": "https://localhost:8080/",
          "height": 34
        },
        "outputId": "951921f7-82f3-4667-b7e4-41b52da12ed1"
      },
      "source": [
        "print(a)"
      ],
      "execution_count": 4,
      "outputs": [
        {
          "output_type": "stream",
          "text": [
            "10\n"
          ],
          "name": "stdout"
        }
      ]
    },
    {
      "cell_type": "code",
      "metadata": {
        "id": "s56yZcca5D8M",
        "colab_type": "code",
        "colab": {
          "base_uri": "https://localhost:8080/",
          "height": 34
        },
        "outputId": "e68877d4-95f4-4762-b532-a5dac60fc599"
      },
      "source": [
        "print(b)"
      ],
      "execution_count": 5,
      "outputs": [
        {
          "output_type": "stream",
          "text": [
            "10.5\n"
          ],
          "name": "stdout"
        }
      ]
    },
    {
      "cell_type": "code",
      "metadata": {
        "id": "7BsqwoqO5vAW",
        "colab_type": "code",
        "colab": {
          "base_uri": "https://localhost:8080/",
          "height": 34
        },
        "outputId": "a3cdfa51-8071-4dd3-c578-7cb9d2e65b0a"
      },
      "source": [
        "print(c)"
      ],
      "execution_count": 10,
      "outputs": [
        {
          "output_type": "stream",
          "text": [
            "Hello there\n"
          ],
          "name": "stdout"
        }
      ]
    },
    {
      "cell_type": "markdown",
      "metadata": {
        "id": "bc6G0s7z5F-j",
        "colab_type": "text"
      },
      "source": [
        "# Check Type Function\n",
        "_To check any variable type we use `type()`_"
      ]
    },
    {
      "cell_type": "code",
      "metadata": {
        "id": "r_J4tn-t5Ev5",
        "colab_type": "code",
        "colab": {
          "base_uri": "https://localhost:8080/",
          "height": 34
        },
        "outputId": "c5a98457-fd46-48a2-c727-990a09aa78d6"
      },
      "source": [
        "type(a)"
      ],
      "execution_count": 6,
      "outputs": [
        {
          "output_type": "execute_result",
          "data": {
            "text/plain": [
              "int"
            ]
          },
          "metadata": {
            "tags": []
          },
          "execution_count": 6
        }
      ]
    },
    {
      "cell_type": "code",
      "metadata": {
        "id": "Vm7YSaH55Wg4",
        "colab_type": "code",
        "colab": {
          "base_uri": "https://localhost:8080/",
          "height": 34
        },
        "outputId": "1f135cec-0525-4c3b-eb20-2038e5b0e224"
      },
      "source": [
        "type(b)"
      ],
      "execution_count": 8,
      "outputs": [
        {
          "output_type": "execute_result",
          "data": {
            "text/plain": [
              "float"
            ]
          },
          "metadata": {
            "tags": []
          },
          "execution_count": 8
        }
      ]
    },
    {
      "cell_type": "code",
      "metadata": {
        "id": "ArMvhkzQ5Xbo",
        "colab_type": "code",
        "colab": {
          "base_uri": "https://localhost:8080/",
          "height": 34
        },
        "outputId": "7dec72f6-3789-4df5-c32d-db47d6ac03c2"
      },
      "source": [
        "type(c)"
      ],
      "execution_count": 11,
      "outputs": [
        {
          "output_type": "execute_result",
          "data": {
            "text/plain": [
              "str"
            ]
          },
          "metadata": {
            "tags": []
          },
          "execution_count": 11
        }
      ]
    },
    {
      "cell_type": "markdown",
      "metadata": {
        "id": "RBOu4oL253kc",
        "colab_type": "text"
      },
      "source": [
        "#Simultaneously assigning variable\n",
        "_we can assign varible simultaneously, let's see_"
      ]
    },
    {
      "cell_type": "code",
      "metadata": {
        "id": "-ZwnWV6u52q5",
        "colab_type": "code",
        "colab": {}
      },
      "source": [
        "x,y,z = 1,2,'Var'"
      ],
      "execution_count": 0,
      "outputs": []
    },
    {
      "cell_type": "code",
      "metadata": {
        "id": "WQR0tLFR5yNU",
        "colab_type": "code",
        "colab": {
          "base_uri": "https://localhost:8080/",
          "height": 68
        },
        "outputId": "d864b378-88e2-4433-ebba-b4971516d240"
      },
      "source": [
        "print(x)\n",
        "print(y)\n",
        "print(z)"
      ],
      "execution_count": 15,
      "outputs": [
        {
          "output_type": "stream",
          "text": [
            "1\n",
            "2\n",
            "Var\n"
          ],
          "name": "stdout"
        }
      ]
    },
    {
      "cell_type": "markdown",
      "metadata": {
        "id": "TMHrAcdu62tT",
        "colab_type": "text"
      },
      "source": [
        "# Concatination \n",
        "_Joing two variable_"
      ]
    },
    {
      "cell_type": "code",
      "metadata": {
        "id": "g98XQ-qO6nZt",
        "colab_type": "code",
        "colab": {}
      },
      "source": [
        "a = 10 \n",
        "b = 20"
      ],
      "execution_count": 0,
      "outputs": []
    },
    {
      "cell_type": "code",
      "metadata": {
        "id": "190GNho56i8A",
        "colab_type": "code",
        "colab": {
          "base_uri": "https://localhost:8080/",
          "height": 34
        },
        "outputId": "72c3ce82-63db-47ba-f54e-46c51b946f6d"
      },
      "source": [
        "print(a+b)"
      ],
      "execution_count": 17,
      "outputs": [
        {
          "output_type": "stream",
          "text": [
            "30\n"
          ],
          "name": "stdout"
        }
      ]
    },
    {
      "cell_type": "code",
      "metadata": {
        "id": "extdRG_B7Isk",
        "colab_type": "code",
        "colab": {}
      },
      "source": [
        "x = 'Hello'\n",
        "y = 'World!'"
      ],
      "execution_count": 0,
      "outputs": []
    },
    {
      "cell_type": "code",
      "metadata": {
        "id": "3kXupDje7PDA",
        "colab_type": "code",
        "colab": {
          "base_uri": "https://localhost:8080/",
          "height": 34
        },
        "outputId": "47038e40-37d6-44e5-8eac-c41aa89f47df"
      },
      "source": [
        "print(x+y)"
      ],
      "execution_count": 19,
      "outputs": [
        {
          "output_type": "stream",
          "text": [
            "HelloWorld!\n"
          ],
          "name": "stdout"
        }
      ]
    },
    {
      "cell_type": "code",
      "metadata": {
        "id": "tkZVvK_57R0-",
        "colab_type": "code",
        "colab": {}
      },
      "source": [
        ""
      ],
      "execution_count": 0,
      "outputs": []
    }
  ]
}